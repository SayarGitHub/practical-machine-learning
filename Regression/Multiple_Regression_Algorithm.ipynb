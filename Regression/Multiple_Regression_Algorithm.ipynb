{
 "cells": [
  {
   "cell_type": "code",
   "execution_count": 15,
   "metadata": {},
   "outputs": [],
   "source": [
    "import numpy as np\n",
    "import pandas as pd\n",
    "def mul_reg(file):\n",
    "    df = pd.read_excel(file)\n",
    "    X = df[df.columns[:len(df.columns)-1]]\n",
    "    y = df[df.columns[-1:]]\n",
    "    X= X.to_numpy()\n",
    "    y= y.to_numpy()\n",
    "    ones = np.ones((X.shape[0],X.shape[1]+1))\n",
    "    ones[:,1:]=X\n",
    "    X=ones\n",
    "    \n",
    "    beta_hat = (np.linalg.inv(X.T@X))@(X.T@y)\n",
    "    \n",
    "    \n",
    "    y_hat = X@beta_hat\n",
    "    err_1 = y-y_hat\n",
    "    err_1 = err_1.T@err_1\n",
    "    \n",
    "    \n",
    "    y_mean =  y.mean()*np.ones((y.shape))\n",
    "    err_2 = y - y_mean\n",
    "    err_2 = err_2.T@err_2\n",
    "    \n",
    "    \n",
    "    r_squared = 1-(err_1/err_2)\n",
    "    return beta_hat,float(r_squared)"
   ]
  },
  {
   "cell_type": "code",
   "execution_count": 16,
   "metadata": {},
   "outputs": [
    {
     "data": {
      "text/plain": [
       "(array([[0.66666667],\n",
       "        [0.5       ]]),\n",
       " 0.75)"
      ]
     },
     "execution_count": 16,
     "metadata": {},
     "output_type": "execute_result"
    }
   ],
   "source": [
    "mul_reg(\"Regression_test.xlsx\")"
   ]
  },
  {
   "cell_type": "code",
   "execution_count": null,
   "metadata": {},
   "outputs": [],
   "source": []
  }
 ],
 "metadata": {
  "kernelspec": {
   "display_name": "Python 3",
   "language": "python",
   "name": "python3"
  },
  "language_info": {
   "codemirror_mode": {
    "name": "ipython",
    "version": 3
   },
   "file_extension": ".py",
   "mimetype": "text/x-python",
   "name": "python",
   "nbconvert_exporter": "python",
   "pygments_lexer": "ipython3",
   "version": "3.8.5"
  }
 },
 "nbformat": 4,
 "nbformat_minor": 4
}
