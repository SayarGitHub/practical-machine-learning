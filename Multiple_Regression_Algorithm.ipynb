{
 "cells": [
  {
   "cell_type": "code",
   "execution_count": 74,
   "metadata": {},
   "outputs": [],
   "source": [
    "def mul_reg(file):\n",
    "    import numpy as np\n",
    "    import pandas as pd\n",
    "    df = pd.read_excel(file)\n",
    "    X = df[df.columns[:len(df.columns)-1]]\n",
    "    y = df[df.columns[-1:]]\n",
    "    X= X.to_numpy()\n",
    "    y= y.to_numpy()\n",
    "    ones = np.ones((X.shape[0],X.shape[1]+1))\n",
    "    ones[:,1:]=X\n",
    "    X=ones\n",
    "    return (np.linalg.inv(X.T@X))@(X.T@y)"
   ]
  },
  {
   "cell_type": "code",
   "execution_count": 76,
   "metadata": {},
   "outputs": [
    {
     "data": {
      "text/plain": [
       "array([[-11.625],\n",
       "       [  4.   ],\n",
       "       [  0.   ],\n",
       "       [ -0.125]])"
      ]
     },
     "execution_count": 76,
     "metadata": {},
     "output_type": "execute_result"
    }
   ],
   "source": [
    "mul_reg(\"Regression_test.xlsx\")"
   ]
  },
  {
   "cell_type": "code",
   "execution_count": null,
   "metadata": {},
   "outputs": [],
   "source": []
  }
 ],
 "metadata": {
  "kernelspec": {
   "display_name": "Python 3",
   "language": "python",
   "name": "python3"
  },
  "language_info": {
   "codemirror_mode": {
    "name": "ipython",
    "version": 3
   },
   "file_extension": ".py",
   "mimetype": "text/x-python",
   "name": "python",
   "nbconvert_exporter": "python",
   "pygments_lexer": "ipython3",
   "version": "3.8.5"
  }
 },
 "nbformat": 4,
 "nbformat_minor": 4
}
