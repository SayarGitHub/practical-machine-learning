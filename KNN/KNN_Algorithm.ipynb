{
 "cells": [
  {
   "cell_type": "code",
   "execution_count": 1,
   "metadata": {},
   "outputs": [],
   "source": [
    "import numpy as np\n",
    "from math import sqrt\n",
    "import matplotlib.pyplot as plt\n",
    "import warnings\n",
    "from matplotlib import style\n",
    "from collections import Counter\n",
    "import pandas as pd\n",
    "import random\n",
    "\n",
    "style.use(\"fivethirtyeight\")\n",
    "plt.rcParams['figure.figsize'] = [10, 5]"
   ]
  },
  {
   "cell_type": "code",
   "execution_count": 2,
   "metadata": {},
   "outputs": [
    {
     "data": {
      "image/png": "[encoded data removed]",
      "text/plain": [
       "<Figure size 720x360 with 1 Axes>"
      ]
     },
     "metadata": {},
     "output_type": "display_data"
    }
   ],
   "source": [
    "dataset = {\"k\":[[1,2],[2,3],[3,1]],\"r\":[[6,5],[7,7],[8,6]]}\n",
    "new_features = [5,7]\n",
    "\n",
    "for i in dataset:\n",
    "    for j in dataset[i]:\n",
    "        plt.scatter(j[0],j[1], s=100 , color=i)\n",
    "plt.scatter(new_features[0],new_features[1],s=100)\n",
    "plt.show()"
   ]
  },
  {
   "cell_type": "code",
   "execution_count": 3,
   "metadata": {},
   "outputs": [],
   "source": [
    "def knn(data, predict, k=3):\n",
    "    if(len(data)) >= k:\n",
    "        warnings.warn(\"k is set to a value lesser than total voting groups!\")\n",
    "    distances = []\n",
    "    \n",
    "    for group in data:\n",
    "        for features in data[group]:\n",
    "            euclidean_dist = np.linalg.norm(np.array(features)-np.array(predict))\n",
    "            distances.append([euclidean_dist,group])\n",
    "    \n",
    "    votes = [i[1] for i in sorted(distances)[:k]]\n",
    "#     print(Counter(votes).most_common(1)) => [('r', 3)]\n",
    "    vote_result = Counter(votes).most_common(1)[0][0]\n",
    "    confidence =  Counter(votes).most_common(1)[0][1]/k\n",
    "#     print(vote_result,confidence)\n",
    "    return vote_result,confidence"
   ]
  },
  {
   "cell_type": "code",
   "execution_count": 4,
   "metadata": {},
   "outputs": [
    {
     "name": "stdout",
     "output_type": "stream",
     "text": [
      "('r', 1.0)\n"
     ]
    }
   ],
   "source": [
    "print(knn(dataset,new_features,k=3))"
   ]
  },
  {
   "cell_type": "code",
   "execution_count": 5,
   "metadata": {},
   "outputs": [],
   "source": [
    "df = pd.read_csv(\"breast-cancer-wisconsin.data\")\n",
    "df.replace(\"?\",-99999,inplace=True)\n",
    "df.drop(columns=\"id\",inplace=True)\n",
    "df = df.astype(float)\n",
    "df = df.sample(frac=1).reset_index(drop=True) #shuffling the dataframe"
   ]
  },
  {
   "cell_type": "code",
   "execution_count": 6,
   "metadata": {},
   "outputs": [],
   "source": [
    "#splitting dataset\n",
    "test_size = 0.2\n",
    "train_data = df.iloc[:-int(test_size*len(df))] \n",
    "test_data = df.iloc[-int(test_size*len(df)):]"
   ]
  },
  {
   "cell_type": "code",
   "execution_count": 7,
   "metadata": {},
   "outputs": [],
   "source": [
    "#dictionary from dataframe\n",
    "train_set = {2:[],4:[]}\n",
    "test_set = {2:[],4:[]}\n",
    "\n",
    "for i in [2,4]:\n",
    "    filt = train_data[\"class\"] == i\n",
    "    train_set[i] = train_data[filt].drop(columns=\"class\").to_numpy().tolist()\n",
    "    filt = test_data[\"class\"] == i\n",
    "    test_set[i] = test_data[filt].drop(columns=\"class\").to_numpy().tolist()"
   ]
  },
  {
   "cell_type": "code",
   "execution_count": 8,
   "metadata": {},
   "outputs": [
    {
     "name": "stdout",
     "output_type": "stream",
     "text": [
      "Accuracy: 0.9712230215827338\n"
     ]
    }
   ],
   "source": [
    "counter=0\n",
    "total=0\n",
    "for group in test_set:\n",
    "    for data in test_set[group]:\n",
    "        result,confidence = knn(train_set, data, k=5)\n",
    "        if result == group:\n",
    "            counter+=1\n",
    "#         else:\n",
    "#             print(confidence)\n",
    "        total+=1\n",
    "\n",
    "            \n",
    "print(\"Accuracy: \"+str(counter/total))                "
   ]
  },
  {
   "cell_type": "code",
   "execution_count": null,
   "metadata": {},
   "outputs": [],
   "source": []
  }
 ],
 "metadata": {
  "kernelspec": {
   "display_name": "Python 3",
   "language": "python",
   "name": "python3"
  },
  "language_info": {
   "codemirror_mode": {
    "name": "ipython",
    "version": 3
   },
   "file_extension": ".py",
   "mimetype": "text/x-python",
   "name": "python",
   "nbconvert_exporter": "python",
   "pygments_lexer": "ipython3",
   "version": "3.8.5"
  }
 },
 "nbformat": 4,
 "nbformat_minor": 4
}
